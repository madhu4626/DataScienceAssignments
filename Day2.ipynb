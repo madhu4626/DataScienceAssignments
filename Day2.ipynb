{
 "cells": [
  {
   "cell_type": "code",
   "execution_count": 2,
   "metadata": {},
   "outputs": [
    {
     "name": "stdout",
     "output_type": "stream",
     "text": [
      "enter the range:10\n",
      "1\n",
      "2\n",
      "3\n",
      "4\n",
      "5\n",
      "6\n",
      "7\n",
      "8\n",
      "9\n",
      "10\n",
      "[2, 4, 6, 8, 10]\n"
     ]
    }
   ],
   "source": [
    "#Q1)\n",
    "numberlist = [];\n",
    "n = int(input(\"enter the range:\"));\n",
    "for i in range(0,n):\n",
    "    ele = int(input())\n",
    "    if ele %2 == 0:\n",
    "        numberlist.append(ele);\n",
    "print(numberlist);"
   ]
  },
  {
   "cell_type": "markdown",
   "metadata": {},
   "source": [
    "#Q2)\n",
    "List comprehension is an elegant way to define and create lists based on existing lists. Power of list comprehension is that when it recieves a string or tuple,it work on it as a list. "
   ]
  },
  {
   "cell_type": "code",
   "execution_count": 3,
   "metadata": {},
   "outputs": [
    {
     "name": "stdout",
     "output_type": "stream",
     "text": [
      "enter the list items: 3 4 5 8 2\n",
      "enter the list items:ABC XYZ LMN PQR UVW\n",
      "[3, 4, 5, 8, 2]\n",
      "['ABC', 'XYZ', 'LMN', 'PQR', 'UVW']\n"
     ]
    }
   ],
   "source": [
    "#Q2)\n",
    "#for list of integers\n",
    "lst1 =[]\n",
    "#for list of strings\n",
    "lst2 = []\n",
    "lst1 = [int(item) for item in input('Enter the list items: ').split()]\n",
    "lst2 = [item for item in input('Enter the list items:').split()]\n",
    "print(lst1)\n",
    "print(lst2)"
   ]
  },
  {
   "cell_type": "code",
   "execution_count": 4,
   "metadata": {},
   "outputs": [
    {
     "name": "stdout",
     "output_type": "stream",
     "text": [
      "4\n",
      "{1: 1, 2: 4, 3: 9, 4: 16}\n"
     ]
    }
   ],
   "source": [
    "#Q3)\n",
    "n = int(input())\n",
    "dict = {}\n",
    "for i in range (1,n+1):\n",
    "    dict[i] = i*i\n",
    "print(dict)"
   ]
  }
 ],
 "metadata": {
  "kernelspec": {
   "display_name": "Python 3",
   "language": "python",
   "name": "python3"
  },
  "language_info": {
   "codemirror_mode": {
    "name": "ipython",
    "version": 3
   },
   "file_extension": ".py",
   "mimetype": "text/x-python",
   "name": "python",
   "nbconvert_exporter": "python",
   "pygments_lexer": "ipython3",
   "version": "3.7.4"
  }
 },
 "nbformat": 4,
 "nbformat_minor": 2
}
